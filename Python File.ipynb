{
 "cells": [
  {
   "cell_type": "markdown",
   "id": "178c9a85",
   "metadata": {},
   "source": [
    "## check gammapy version"
   ]
  },
  {
   "cell_type": "code",
   "execution_count": 1,
   "id": "62ad11cb",
   "metadata": {},
   "outputs": [
    {
     "data": {
      "text/plain": [
       "'1.0.1'"
      ]
     },
     "execution_count": 1,
     "metadata": {},
     "output_type": "execute_result"
    }
   ],
   "source": [
    "import gammapy\n",
    "gammapy.__version__"
   ]
  },
  {
   "cell_type": "markdown",
   "id": "fd105058",
   "metadata": {},
   "source": [
    "## some imports"
   ]
  },
  {
   "cell_type": "code",
   "execution_count": 2,
   "id": "ecf5545d",
   "metadata": {},
   "outputs": [],
   "source": [
    "import os\n",
    "import glob"
   ]
  },
  {
   "cell_type": "code",
   "execution_count": 3,
   "id": "8a839730",
   "metadata": {},
   "outputs": [],
   "source": [
    "from astropy import units as u\n",
    "\n",
    "from astropy.coordinates import SkyCoord, Angle"
   ]
  },
  {
   "cell_type": "markdown",
   "id": "732c4c6f",
   "metadata": {},
   "source": [
    "## set position, search radius and data location"
   ]
  },
  {
   "cell_type": "markdown",
   "id": "84ba50d5",
   "metadata": {},
   "source": [
    "The next line points to the location of the data files. It should point to a directory where the different configurations are saved in sub-directories."
   ]
  },
  {
   "cell_type": "code",
   "execution_count": 4,
   "id": "f84739e7",
   "metadata": {},
   "outputs": [],
   "source": [
    "basepath = 'C:/Users/User 1/Desktop/Honours Project/Data'"
   ]
  },
  {
   "cell_type": "markdown",
   "id": "d966f9bf",
   "metadata": {},
   "source": [
    "The next cell defines the source position and the search radius."
   ]
  },
  {
   "cell_type": "code",
   "execution_count": 5,
   "id": "7d26b12d",
   "metadata": {},
   "outputs": [],
   "source": [
    "sourcepos = SkyCoord(83.633, 22.014, unit=\"deg\", frame='icrs')\n",
    "\n",
    "selectradius = 2.5*u.deg"
   ]
  },
  {
   "cell_type": "markdown",
   "id": "8cee349c",
   "metadata": {},
   "source": [
    "## select the analysis configuration"
   ]
  },
  {
   "cell_type": "markdown",
   "id": "52743363",
   "metadata": {},
   "source": [
    "The following cell lists all available configurations with their respective number."
   ]
  },
  {
   "cell_type": "code",
   "execution_count": 6,
   "id": "b2389320",
   "metadata": {},
   "outputs": [
    {
     "name": "stdout",
     "output_type": "stream",
     "text": [
      "0. ModelPlus_HESSI_Stereo_Faint\n",
      "1. ModelPlus_HESSI_Stereo_Std\n",
      "2. ModelPlus_HESS_Combined_Stereo_Faint\n",
      "3. ModelPlus_HESS_Combined_Stereo_Std\n"
     ]
    }
   ],
   "source": [
    "analysis_configs = os.listdir(basepath)\n",
    "\n",
    "c = 0\n",
    "\n",
    "for i in analysis_configs :\n",
    "\n",
    "    print('{}. {}'.format(c, i))\n",
    "    \n",
    "    c+=1"
   ]
  },
  {
   "cell_type": "markdown",
   "id": "998a9ad8",
   "metadata": {},
   "source": [
    "Choose a selection and put the number in the next cell. Note that the numbers may change when more configurations are added."
   ]
  },
  {
   "cell_type": "code",
   "execution_count": 7,
   "id": "288a7bea",
   "metadata": {},
   "outputs": [],
   "source": [
    "conf = analysis_configs[3]"
   ]
  },
  {
   "cell_type": "code",
   "execution_count": 8,
   "id": "ee2e9d30",
   "metadata": {},
   "outputs": [
    {
     "name": "stdout",
     "output_type": "stream",
     "text": [
      "You have chosen configuration ModelPlus_HESS_Combined_Stereo_Std.\n"
     ]
    }
   ],
   "source": [
    "print('You have chosen configuration {}.'.format(conf))"
   ]
  },
  {
   "cell_type": "markdown",
   "id": "77960a06",
   "metadata": {},
   "source": [
    "## cone search, run list and preparation of observations"
   ]
  },
  {
   "cell_type": "code",
   "execution_count": 9,
   "id": "436a2f8a",
   "metadata": {},
   "outputs": [],
   "source": [
    "os.environ['HESS_FITS'] = basepath"
   ]
  },
  {
   "cell_type": "code",
   "execution_count": 10,
   "id": "0a074ddd",
   "metadata": {},
   "outputs": [],
   "source": [
    "path = os.path.join(basepath, conf)"
   ]
  },
  {
   "cell_type": "code",
   "execution_count": 11,
   "id": "30af8450",
   "metadata": {},
   "outputs": [],
   "source": [
    "from gammapy.data import DataStore"
   ]
  },
  {
   "cell_type": "code",
   "execution_count": 12,
   "id": "6e35c40a",
   "metadata": {},
   "outputs": [],
   "source": [
    "data_store = DataStore.from_dir(path)"
   ]
  },
  {
   "cell_type": "code",
   "execution_count": 13,
   "id": "740f2a56",
   "metadata": {},
   "outputs": [],
   "source": [
    "conesearch = data_store.obs_table.select_sky_circle(sourcepos, selectradius)"
   ]
  },
  {
   "cell_type": "code",
   "execution_count": 14,
   "id": "396f93fe",
   "metadata": {},
   "outputs": [],
   "source": [
    "import numpy as np"
   ]
  },
  {
   "cell_type": "markdown",
   "id": "38b1ea85",
   "metadata": {},
   "source": [
    "The runs have different telescope configurations. Each number stands for one telescpe, 1 - 4 being the small telescopes and 5 the large telescope:"
   ]
  },
  {
   "cell_type": "code",
   "execution_count": 15,
   "id": "3227e023",
   "metadata": {},
   "outputs": [
    {
     "data": {
      "text/html": [
       "&lt;Column name=&apos;TELLIST&apos; dtype=&apos;bytes9&apos; length=1&gt;\n",
       "<table>\n",
       "<tr><td>1,2,3,4,5</td></tr>\n",
       "</table>"
      ],
      "text/plain": [
       "<Column name='TELLIST' dtype='bytes9' length=1>\n",
       "1,2,3,4,5"
      ]
     },
     "execution_count": 15,
     "metadata": {},
     "output_type": "execute_result"
    }
   ],
   "source": [
    "np.unique(conesearch['TELLIST'])"
   ]
  },
  {
   "cell_type": "markdown",
   "id": "9bbb8382",
   "metadata": {},
   "source": [
    "We want only the runs containing all telescopes:"
   ]
  },
  {
   "cell_type": "code",
   "execution_count": 16,
   "id": "47e629d1",
   "metadata": {},
   "outputs": [],
   "source": [
    "telsearch = conesearch[conesearch['TELLIST'] == '1,2,3,4,5']"
   ]
  },
  {
   "cell_type": "code",
   "execution_count": 17,
   "id": "bf04643b",
   "metadata": {},
   "outputs": [],
   "source": [
    "runlist = telsearch['OBS_ID'].value"
   ]
  },
  {
   "cell_type": "markdown",
   "id": "170542f7",
   "metadata": {},
   "source": [
    "The run list is:"
   ]
  },
  {
   "cell_type": "code",
   "execution_count": 18,
   "id": "83d174ec",
   "metadata": {},
   "outputs": [
    {
     "name": "stdout",
     "output_type": "stream",
     "text": [
      "[ 88973  88986  88951  88952  82725  82782  90408  90564  90439  90478\n",
      "  90415  90441  90410  90437  90440 135629 135635 135667 135666 135634\n",
      " 135665 103805 103806 103849 103851 103848 103957 103850 103847 103956\n",
      " 103803 103804 101451  79556 143050 143161 143136 143137 143165 143134\n",
      " 143082 143135 135520 135482 135481 135479 135480 135521 135271 135306\n",
      " 135307 135247 135246 135272 135333 135270 135273 125794 125719 125716\n",
      " 125793 125757 125715 125717 142897 142990 142989 142896 102987 102988\n",
      "  82038 136480  89732 126535 126538 126540 126536  79858  79862  79884\n",
      "  79882  79860  79885  79859  79881  90317  90350  90319  90277  90239\n",
      "  90203  90380  90275  90321  90318  90352  90381  90382  90237  90376\n",
      "  90377  90276  90378  90351  90320  90278  90238  90349  90379  90348\n",
      " 102576 102575 102402 101135 101071 101166 103698 103737 103697 103738\n",
      " 143211 143212 143210 143213 142428 142510 142593 142463 142427 142565\n",
      " 142592 142566 142530 142462 142567 142460 142588 142430 142594 142464\n",
      " 142568 142563 142564 142590 100553 100573 100555 100554 100454 100572\n",
      " 100574 100453 100452 144011 144012 101295 101320 101321 142392 128019\n",
      " 128016 128017 128018 137343 127504 127503 127544 127545  80126 142760\n",
      " 142670 142651 142667 142630 142758 142666 142629 142668 142652 142636\n",
      " 142654 142653 142627 142628 142669 142650 141861 141998 141924 141997\n",
      " 135158 135159  89828 127955 127824 127958 127954 127825 127990 127989\n",
      " 127956 127988 127957 126115 126116 102293 154376 154378 154377]\n"
     ]
    }
   ],
   "source": [
    "print(runlist)"
   ]
  },
  {
   "cell_type": "markdown",
   "id": "201d1db4",
   "metadata": {},
   "source": [
    "Now we get the observations for these runs:"
   ]
  },
  {
   "cell_type": "code",
   "execution_count": 19,
   "id": "c6aa4563",
   "metadata": {},
   "outputs": [],
   "source": [
    "observations = data_store.get_observations(runlist)"
   ]
  },
  {
   "cell_type": "markdown",
   "id": "068482d7",
   "metadata": {},
   "source": [
    "## Analysis"
   ]
  },
  {
   "cell_type": "code",
   "execution_count": 20,
   "id": "ae3d2d1b",
   "metadata": {},
   "outputs": [],
   "source": [
    "import matplotlib.pyplot as plt\n",
    "from IPython.display import display\n",
    "from regions import CircleSkyRegion\n",
    "import scipy.stats\n",
    "\n",
    "from gammapy.makers import MapDatasetMaker, FoVBackgroundMaker\n",
    "from gammapy.analysis import Analysis, AnalysisConfig\n",
    "from gammapy.makers import (\n",
    "    SafeMaskMaker,\n",
    "    SpectrumDatasetMaker,\n",
    "    ReflectedRegionsBackgroundMaker,\n",
    "    RingBackgroundMaker,\n",
    ")\n",
    "\n",
    "from gammapy.estimators import (\n",
    "    ExcessMapEstimator,\n",
    "    FluxPointsEstimator,\n",
    ")\n",
    "\n",
    "from gammapy.maps import Map, WcsGeom, WcsNDMap, RegionGeom, MapAxis\n",
    "from gammapy.datasets import MapDatasetOnOff\n",
    "from gammapy.datasets import MapDataset\n",
    "from gammapy.data import EventList\n",
    "from gammapy.modeling import Fit\n",
    "from gammapy.datasets import (\n",
    "    Datasets,\n",
    "    SpectrumDataset,\n",
    "    SpectrumDatasetOnOff,\n",
    "    FluxPointsDataset,\n",
    ")\n",
    "\n",
    "from gammapy.modeling.models import (\n",
    "    PowerLawSpectralModel,\n",
    "    PointSpatialModel,\n",
    "    FoVBackgroundModel,\n",
    "    ExpCutoffPowerLawSpectralModel,\n",
    "    create_crab_spectral_model,\n",
    "    SkyModel,\n",
    ")\n",
    "from gammapy.visualization import plot_spectrum_datasets_off_regions"
   ]
  },
  {
   "cell_type": "code",
   "execution_count": 21,
   "id": "8c2748e9",
   "metadata": {},
   "outputs": [],
   "source": [
    "#Selecting the region of interest\n",
    "on_region = CircleSkyRegion(center=sourcepos, radius=Angle(\"0.65 deg\"))"
   ]
  },
  {
   "cell_type": "code",
   "execution_count": 22,
   "id": "e37526b9",
   "metadata": {},
   "outputs": [
    {
     "data": {
      "image/png": "[encoded data removed]",
      "text/plain": [
       "<Figure size 640x480 with 1 Axes>"
      ]
     },
     "metadata": {},
     "output_type": "display_data"
    }
   ],
   "source": [
    "#We Create the exclusion mask\n",
    "exclusion_region = CircleSkyRegion(\n",
    "    center=SkyCoord(183.604, -8.708, unit=\"deg\", frame=\"galactic\"),\n",
    "    radius=0.5 * u.deg,\n",
    ")\n",
    "\n",
    "skydir = sourcepos.galactic\n",
    "geom = WcsGeom.create(\n",
    "    npix=(150, 150), binsz=0.05, skydir=skydir, proj=\"TAN\", frame=\"icrs\"\n",
    ")\n",
    "\n",
    "exclusion_mask = ~geom.region_mask([exclusion_region])\n",
    "exclusion_mask.plot()\n",
    "plt.show()"
   ]
  },
  {
   "cell_type": "code",
   "execution_count": 23,
   "id": "0c17947e",
   "metadata": {},
   "outputs": [],
   "source": [
    "#We create the configuration of the maker classes\n",
    "energy_axis = MapAxis.from_energy_bounds(\n",
    "    0.1, 40, nbin=10, per_decade=True, unit=\"TeV\", name=\"energy\"\n",
    ")\n",
    "energy_axis_true = MapAxis.from_energy_bounds(\n",
    "    0.05, 100, nbin=20, per_decade=True, unit=\"TeV\", name=\"energy_true\"\n",
    ")\n",
    "\n",
    "geom = RegionGeom.create(region=on_region, axes=[energy_axis])\n",
    "\n",
    "#We create a spectrum dataset\n",
    "dataset_empty = SpectrumDataset.create(geom=geom, energy_axis_true=energy_axis_true)\n",
    "\n",
    "dataset_maker = SpectrumDatasetMaker(\n",
    "    containment_correction=True, selection=[\"counts\", \"exposure\", \"edisp\"]\n",
    ")\n",
    "bkg_maker = ReflectedRegionsBackgroundMaker(exclusion_mask=exclusion_mask)\n",
    "safe_mask_masker = SafeMaskMaker(methods=[\"aeff-max\"], aeff_percent=10)"
   ]
  },
  {
   "cell_type": "code",
   "execution_count": 24,
   "id": "5ff5b432",
   "metadata": {},
   "outputs": [
    {
     "name": "stderr",
     "output_type": "stream",
     "text": [
      "C:\\Users\\User 1\\anaconda3.1\\envs\\gammapy-1.0.1\\lib\\site-packages\\gammapy\\maps\\geom.py:48: RuntimeWarning: invalid value encountered in cast\n",
      "  p_idx = np.rint(p).astype(int)\n",
      "HDU 'PSF' not found\n"
     ]
    },
    {
     "ename": "AttributeError",
     "evalue": "'NoneType' object has no attribute 'containment'",
     "output_type": "error",
     "traceback": [
      "\u001b[1;31m---------------------------------------------------------------------------\u001b[0m",
      "\u001b[1;31mAttributeError\u001b[0m                            Traceback (most recent call last)",
      "Cell \u001b[1;32mIn[24], line 4\u001b[0m\n\u001b[0;32m      1\u001b[0m datasets \u001b[38;5;241m=\u001b[39m Datasets()\n\u001b[0;32m      3\u001b[0m \u001b[38;5;28;01mfor\u001b[39;00m obs_id, observation \u001b[38;5;129;01min\u001b[39;00m \u001b[38;5;28mzip\u001b[39m(runlist, observations):\n\u001b[1;32m----> 4\u001b[0m     dataset \u001b[38;5;241m=\u001b[39m \u001b[43mdataset_maker\u001b[49m\u001b[38;5;241;43m.\u001b[39;49m\u001b[43mrun\u001b[49m\u001b[43m(\u001b[49m\u001b[43mdataset_empty\u001b[49m\u001b[38;5;241;43m.\u001b[39;49m\u001b[43mcopy\u001b[49m\u001b[43m(\u001b[49m\u001b[43mname\u001b[49m\u001b[38;5;241;43m=\u001b[39;49m\u001b[38;5;28;43mstr\u001b[39;49m\u001b[43m(\u001b[49m\u001b[43mobs_id\u001b[49m\u001b[43m)\u001b[49m\u001b[43m)\u001b[49m\u001b[43m,\u001b[49m\u001b[43m \u001b[49m\u001b[43mobservation\u001b[49m\u001b[43m)\u001b[49m\n\u001b[0;32m      5\u001b[0m     dataset_on_off \u001b[38;5;241m=\u001b[39m bkg_maker\u001b[38;5;241m.\u001b[39mrun(dataset, observation)\n\u001b[0;32m      6\u001b[0m     dataset_on_off \u001b[38;5;241m=\u001b[39m safe_mask_masker\u001b[38;5;241m.\u001b[39mrun(dataset_on_off, observation)\n",
      "File \u001b[1;32m~\\anaconda3.1\\envs\\gammapy-1.0.1\\lib\\site-packages\\gammapy\\makers\\map.py:395\u001b[0m, in \u001b[0;36mMapDatasetMaker.run\u001b[1;34m(self, dataset, observation)\u001b[0m\n\u001b[0;32m    392\u001b[0m kwargs[\u001b[38;5;124m\"\u001b[39m\u001b[38;5;124mcounts\u001b[39m\u001b[38;5;124m\"\u001b[39m] \u001b[38;5;241m=\u001b[39m counts\n\u001b[0;32m    394\u001b[0m \u001b[38;5;28;01mif\u001b[39;00m \u001b[38;5;124m\"\u001b[39m\u001b[38;5;124mexposure\u001b[39m\u001b[38;5;124m\"\u001b[39m \u001b[38;5;129;01min\u001b[39;00m \u001b[38;5;28mself\u001b[39m\u001b[38;5;241m.\u001b[39mselection:\n\u001b[1;32m--> 395\u001b[0m     exposure \u001b[38;5;241m=\u001b[39m \u001b[38;5;28;43mself\u001b[39;49m\u001b[38;5;241;43m.\u001b[39;49m\u001b[43mmake_exposure\u001b[49m\u001b[43m(\u001b[49m\u001b[43mdataset\u001b[49m\u001b[38;5;241;43m.\u001b[39;49m\u001b[43mexposure\u001b[49m\u001b[38;5;241;43m.\u001b[39;49m\u001b[43mgeom\u001b[49m\u001b[43m,\u001b[49m\u001b[43m \u001b[49m\u001b[43mobservation\u001b[49m\u001b[43m)\u001b[49m\n\u001b[0;32m    396\u001b[0m     kwargs[\u001b[38;5;124m\"\u001b[39m\u001b[38;5;124mexposure\u001b[39m\u001b[38;5;124m\"\u001b[39m] \u001b[38;5;241m=\u001b[39m exposure\n\u001b[0;32m    398\u001b[0m \u001b[38;5;28;01mif\u001b[39;00m \u001b[38;5;124m\"\u001b[39m\u001b[38;5;124mbackground\u001b[39m\u001b[38;5;124m\"\u001b[39m \u001b[38;5;129;01min\u001b[39;00m \u001b[38;5;28mself\u001b[39m\u001b[38;5;241m.\u001b[39mselection:\n",
      "File \u001b[1;32m~\\anaconda3.1\\envs\\gammapy-1.0.1\\lib\\site-packages\\gammapy\\makers\\spectrum.py:86\u001b[0m, in \u001b[0;36mSpectrumDatasetMaker.make_exposure\u001b[1;34m(self, geom, observation)\u001b[0m\n\u001b[0;32m     82\u001b[0m         \u001b[38;5;28;01mraise\u001b[39;00m \u001b[38;5;167;01mTypeError\u001b[39;00m(\n\u001b[0;32m     83\u001b[0m             \u001b[38;5;124m\"\u001b[39m\u001b[38;5;124mContainment correction only supported for circular regions.\u001b[39m\u001b[38;5;124m\"\u001b[39m\n\u001b[0;32m     84\u001b[0m         )\n\u001b[0;32m     85\u001b[0m     offset \u001b[38;5;241m=\u001b[39m geom\u001b[38;5;241m.\u001b[39mseparation(observation\u001b[38;5;241m.\u001b[39mpointing_radec)\n\u001b[1;32m---> 86\u001b[0m     containment \u001b[38;5;241m=\u001b[39m \u001b[43mobservation\u001b[49m\u001b[38;5;241;43m.\u001b[39;49m\u001b[43mpsf\u001b[49m\u001b[38;5;241;43m.\u001b[39;49m\u001b[43mcontainment\u001b[49m(\n\u001b[0;32m     87\u001b[0m         rad\u001b[38;5;241m=\u001b[39mgeom\u001b[38;5;241m.\u001b[39mregion\u001b[38;5;241m.\u001b[39mradius,\n\u001b[0;32m     88\u001b[0m         offset\u001b[38;5;241m=\u001b[39moffset,\n\u001b[0;32m     89\u001b[0m         energy_true\u001b[38;5;241m=\u001b[39mgeom\u001b[38;5;241m.\u001b[39maxes[\u001b[38;5;124m\"\u001b[39m\u001b[38;5;124menergy_true\u001b[39m\u001b[38;5;124m\"\u001b[39m]\u001b[38;5;241m.\u001b[39mcenter,\n\u001b[0;32m     90\u001b[0m     )\n\u001b[0;32m     91\u001b[0m     exposure\u001b[38;5;241m.\u001b[39mquantity \u001b[38;5;241m*\u001b[39m\u001b[38;5;241m=\u001b[39m containment\u001b[38;5;241m.\u001b[39mreshape(geom\u001b[38;5;241m.\u001b[39mdata_shape)\n\u001b[0;32m     93\u001b[0m \u001b[38;5;28;01mreturn\u001b[39;00m exposure\n",
      "\u001b[1;31mAttributeError\u001b[0m: 'NoneType' object has no attribute 'containment'"
     ]
    }
   ],
   "source": [
    "datasets = Datasets()\n",
    "\n",
    "for obs_id, observation in zip(runlist, observations):\n",
    "    dataset = dataset_maker.run(dataset_empty.copy(name=str(obs_id)), observation)\n",
    "    dataset_on_off = bkg_maker.run(dataset, observation)\n",
    "    dataset_on_off = safe_mask_masker.run(dataset_on_off, observation)\n",
    "    datasets.append(dataset_on_off)\n",
    "\n",
    "print(datasets)"
   ]
  },
  {
   "cell_type": "code",
   "execution_count": null,
   "id": "a791251e",
   "metadata": {},
   "outputs": [],
   "source": []
  },
  {
   "cell_type": "code",
   "execution_count": null,
   "id": "871892d4",
   "metadata": {},
   "outputs": [],
   "source": []
  },
  {
   "cell_type": "code",
   "execution_count": null,
   "id": "a7c5d79e",
   "metadata": {},
   "outputs": [],
   "source": []
  },
  {
   "cell_type": "code",
   "execution_count": null,
   "id": "111bd7e6",
   "metadata": {},
   "outputs": [],
   "source": []
  },
  {
   "cell_type": "code",
   "execution_count": null,
   "id": "9fbe6951",
   "metadata": {},
   "outputs": [],
   "source": []
  },
  {
   "cell_type": "code",
   "execution_count": null,
   "id": "03df8de4",
   "metadata": {},
   "outputs": [],
   "source": []
  },
  {
   "cell_type": "code",
   "execution_count": null,
   "id": "1085c40f",
   "metadata": {},
   "outputs": [],
   "source": []
  },
  {
   "cell_type": "code",
   "execution_count": null,
   "id": "0c6ed32e",
   "metadata": {},
   "outputs": [],
   "source": []
  },
  {
   "cell_type": "code",
   "execution_count": null,
   "id": "9aff6420",
   "metadata": {},
   "outputs": [],
   "source": []
  },
  {
   "cell_type": "code",
   "execution_count": null,
   "id": "736f472d",
   "metadata": {},
   "outputs": [],
   "source": []
  },
  {
   "cell_type": "code",
   "execution_count": null,
   "id": "18933ab2",
   "metadata": {},
   "outputs": [],
   "source": []
  },
  {
   "cell_type": "code",
   "execution_count": null,
   "id": "45ffde28",
   "metadata": {},
   "outputs": [],
   "source": []
  },
  {
   "cell_type": "code",
   "execution_count": null,
   "id": "b3030186",
   "metadata": {},
   "outputs": [],
   "source": []
  },
  {
   "cell_type": "code",
   "execution_count": null,
   "id": "d28ceec1",
   "metadata": {},
   "outputs": [],
   "source": []
  },
  {
   "cell_type": "code",
   "execution_count": null,
   "id": "1b93a108",
   "metadata": {},
   "outputs": [],
   "source": []
  },
  {
   "cell_type": "code",
   "execution_count": null,
   "id": "34056609",
   "metadata": {},
   "outputs": [],
   "source": []
  },
  {
   "cell_type": "code",
   "execution_count": null,
   "id": "14101e06",
   "metadata": {},
   "outputs": [],
   "source": []
  },
  {
   "cell_type": "code",
   "execution_count": null,
   "id": "6355b351",
   "metadata": {},
   "outputs": [],
   "source": []
  },
  {
   "cell_type": "code",
   "execution_count": null,
   "id": "ca5e9f23",
   "metadata": {},
   "outputs": [],
   "source": []
  },
  {
   "cell_type": "code",
   "execution_count": null,
   "id": "f8a3c1de",
   "metadata": {},
   "outputs": [],
   "source": []
  },
  {
   "cell_type": "code",
   "execution_count": null,
   "id": "1dea1214",
   "metadata": {},
   "outputs": [],
   "source": []
  },
  {
   "cell_type": "code",
   "execution_count": null,
   "id": "2b73c86b",
   "metadata": {},
   "outputs": [],
   "source": []
  },
  {
   "cell_type": "code",
   "execution_count": null,
   "id": "4b8ef373",
   "metadata": {},
   "outputs": [],
   "source": []
  },
  {
   "cell_type": "code",
   "execution_count": null,
   "id": "aa981f0f",
   "metadata": {},
   "outputs": [],
   "source": []
  }
 ],
 "metadata": {
  "kernelspec": {
   "display_name": "Python 3 (ipykernel)",
   "language": "python",
   "name": "python3"
  },
  "language_info": {
   "codemirror_mode": {
    "name": "ipython",
    "version": 3
   },
   "file_extension": ".py",
   "mimetype": "text/x-python",
   "name": "python",
   "nbconvert_exporter": "python",
   "pygments_lexer": "ipython3",
   "version": "3.9.16"
  }
 },
 "nbformat": 4,
 "nbformat_minor": 5
}
