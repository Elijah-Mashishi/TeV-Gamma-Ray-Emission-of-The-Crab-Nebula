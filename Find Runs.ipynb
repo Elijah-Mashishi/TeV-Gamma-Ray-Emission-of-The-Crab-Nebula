{
 "cells": [
  {
   "cell_type": "markdown",
   "id": "178c9a85",
   "metadata": {},
   "source": [
    "## check gammapy version"
   ]
  },
  {
   "cell_type": "code",
   "execution_count": null,
   "id": "62ad11cb",
   "metadata": {},
   "outputs": [],
   "source": [
    "import gammapy\n",
    "gammapy.__version__"
   ]
  },
  {
   "cell_type": "markdown",
   "id": "fd105058",
   "metadata": {},
   "source": [
    "## some imports"
   ]
  },
  {
   "cell_type": "code",
   "execution_count": null,
   "id": "ecf5545d",
   "metadata": {},
   "outputs": [],
   "source": [
    "import os\n",
    "import glob"
   ]
  },
  {
   "cell_type": "code",
   "execution_count": null,
   "id": "8a839730",
   "metadata": {},
   "outputs": [],
   "source": [
    "from astropy import units as u\n",
    "\n",
    "from astropy.coordinates import SkyCoord, Angle"
   ]
  },
  {
   "cell_type": "markdown",
   "id": "732c4c6f",
   "metadata": {},
   "source": [
    "## set position, search radius and data location"
   ]
  },
  {
   "cell_type": "markdown",
   "id": "84ba50d5",
   "metadata": {},
   "source": [
    "The next line points to the location of the data files. It should point to a directory where the different configurations are saved in sub-directories."
   ]
  },
  {
   "cell_type": "code",
   "execution_count": null,
   "id": "f84739e7",
   "metadata": {},
   "outputs": [],
   "source": [
    "basepath = 'data'"
   ]
  },
  {
   "cell_type": "markdown",
   "id": "d966f9bf",
   "metadata": {},
   "source": [
    "The next cell defines the source position and the search radius."
   ]
  },
  {
   "cell_type": "code",
   "execution_count": null,
   "id": "7d26b12d",
   "metadata": {},
   "outputs": [],
   "source": [
    "sourcepos = SkyCoord(83.633, 22.014, unit=\"deg\", frame='icrs')\n",
    "\n",
    "selectradius = 2.5*u.deg"
   ]
  },
  {
   "cell_type": "markdown",
   "id": "8cee349c",
   "metadata": {},
   "source": [
    "## select the analysis configuration"
   ]
  },
  {
   "cell_type": "markdown",
   "id": "52743363",
   "metadata": {},
   "source": [
    "The following cell lists all available configurations with their respective number."
   ]
  },
  {
   "cell_type": "code",
   "execution_count": null,
   "id": "b2389320",
   "metadata": {},
   "outputs": [],
   "source": [
    "analysis_configs = os.listdir(basepath)\n",
    "\n",
    "c = 0\n",
    "\n",
    "for i in analysis_configs :\n",
    "\n",
    "    print('{}. {}'.format(c, i))\n",
    "    \n",
    "    c+=1"
   ]
  },
  {
   "cell_type": "markdown",
   "id": "998a9ad8",
   "metadata": {},
   "source": [
    "Choose a selection and put the number in the next cell. Note that the numbers may change when more configurations are added."
   ]
  },
  {
   "cell_type": "code",
   "execution_count": null,
   "id": "288a7bea",
   "metadata": {},
   "outputs": [],
   "source": [
    "conf = analysis_configs[1]"
   ]
  },
  {
   "cell_type": "code",
   "execution_count": null,
   "id": "ee2e9d30",
   "metadata": {},
   "outputs": [],
   "source": [
    "print('You have chosen configuration {}.'.format(conf))"
   ]
  },
  {
   "cell_type": "markdown",
   "id": "77960a06",
   "metadata": {},
   "source": [
    "## cone search, run list and preparation of observations"
   ]
  },
  {
   "cell_type": "code",
   "execution_count": null,
   "id": "436a2f8a",
   "metadata": {},
   "outputs": [],
   "source": [
    "os.environ['HESS_FITS'] = basepath"
   ]
  },
  {
   "cell_type": "code",
   "execution_count": null,
   "id": "0a074ddd",
   "metadata": {},
   "outputs": [],
   "source": [
    "path = os.path.join(basepath, conf)"
   ]
  },
  {
   "cell_type": "code",
   "execution_count": null,
   "id": "30af8450",
   "metadata": {},
   "outputs": [],
   "source": [
    "from gammapy.data import DataStore"
   ]
  },
  {
   "cell_type": "code",
   "execution_count": null,
   "id": "6e35c40a",
   "metadata": {},
   "outputs": [],
   "source": [
    "data_store = DataStore.from_dir(path)"
   ]
  },
  {
   "cell_type": "code",
   "execution_count": null,
   "id": "740f2a56",
   "metadata": {},
   "outputs": [],
   "source": [
    "conesearch = data_store.obs_table.select_sky_circle(sourcepos, selectradius)"
   ]
  },
  {
   "cell_type": "code",
   "execution_count": null,
   "id": "396f93fe",
   "metadata": {},
   "outputs": [],
   "source": [
    "import numpy as np"
   ]
  },
  {
   "cell_type": "markdown",
   "id": "38b1ea85",
   "metadata": {},
   "source": [
    "The runs have different telescope configurations. Each number stands for one telescpe, 1 - 4 being the small telescopes and 5 the large telescope:"
   ]
  },
  {
   "cell_type": "code",
   "execution_count": null,
   "id": "3227e023",
   "metadata": {},
   "outputs": [],
   "source": [
    "np.unique(conesearch['TELLIST'])"
   ]
  },
  {
   "cell_type": "markdown",
   "id": "9bbb8382",
   "metadata": {},
   "source": [
    "We want only the runs containing all telescopes:"
   ]
  },
  {
   "cell_type": "code",
   "execution_count": null,
   "id": "47e629d1",
   "metadata": {},
   "outputs": [],
   "source": [
    "telsearch = conesearch[conesearch['TELLIST'] == '1,2,3,4,5']"
   ]
  },
  {
   "cell_type": "code",
   "execution_count": null,
   "id": "bf04643b",
   "metadata": {},
   "outputs": [],
   "source": [
    "runlist = telsearch['OBS_ID'].value"
   ]
  },
  {
   "cell_type": "markdown",
   "id": "170542f7",
   "metadata": {},
   "source": [
    "The run list is:"
   ]
  },
  {
   "cell_type": "code",
   "execution_count": null,
   "id": "83d174ec",
   "metadata": {},
   "outputs": [],
   "source": [
    "print(runlist)"
   ]
  },
  {
   "cell_type": "markdown",
   "id": "201d1db4",
   "metadata": {},
   "source": [
    "Now we get the observations for these runs:"
   ]
  },
  {
   "cell_type": "code",
   "execution_count": null,
   "id": "c6aa4563",
   "metadata": {},
   "outputs": [],
   "source": [
    "observations = data_store.get_observations(runlist)"
   ]
  },
  {
   "cell_type": "markdown",
   "id": "068482d7",
   "metadata": {},
   "source": [
    "## Analysis"
   ]
  },
  {
   "cell_type": "code",
   "execution_count": null,
   "id": "ae3d2d1b",
   "metadata": {},
   "outputs": [],
   "source": []
  }
 ],
 "metadata": {
  "kernelspec": {
   "display_name": "Python 3 (ipykernel)",
   "language": "python",
   "name": "python3"
  },
  "language_info": {
   "codemirror_mode": {
    "name": "ipython",
    "version": 3
   },
   "file_extension": ".py",
   "mimetype": "text/x-python",
   "name": "python",
   "nbconvert_exporter": "python",
   "pygments_lexer": "ipython3",
   "version": "3.9.15"
  }
 },
 "nbformat": 4,
 "nbformat_minor": 5
}
