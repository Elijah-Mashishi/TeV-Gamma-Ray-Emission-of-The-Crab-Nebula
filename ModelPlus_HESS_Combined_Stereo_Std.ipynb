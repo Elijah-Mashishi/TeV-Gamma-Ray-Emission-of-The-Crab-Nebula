{
 "cells": [
  {
   "cell_type": "markdown",
   "id": "178c9a85",
   "metadata": {},
   "source": [
    "## check gammapy version"
   ]
  },
  {
   "cell_type": "code",
   "execution_count": 1,
   "id": "62ad11cb",
   "metadata": {},
   "outputs": [
    {
     "data": {
      "text/plain": [
       "'1.0.1'"
      ]
     },
     "execution_count": 1,
     "metadata": {},
     "output_type": "execute_result"
    }
   ],
   "source": [
    "import gammapy\n",
    "gammapy.__version__"
   ]
  },
  {
   "cell_type": "markdown",
   "id": "fd105058",
   "metadata": {},
   "source": [
    "## some imports"
   ]
  },
  {
   "cell_type": "code",
   "execution_count": 2,
   "id": "ecf5545d",
   "metadata": {},
   "outputs": [],
   "source": [
    "import os\n",
    "import glob"
   ]
  },
  {
   "cell_type": "code",
   "execution_count": 3,
   "id": "8a839730",
   "metadata": {},
   "outputs": [],
   "source": [
    "from astropy import units as u\n",
    "\n",
    "from astropy.coordinates import SkyCoord, Angle"
   ]
  },
  {
   "cell_type": "markdown",
   "id": "732c4c6f",
   "metadata": {},
   "source": [
    "## set position, search radius and data location"
   ]
  },
  {
   "cell_type": "markdown",
   "id": "84ba50d5",
   "metadata": {},
   "source": [
    "The next line points to the location of the data files. It should point to a directory where the different configurations are saved in sub-directories."
   ]
  },
  {
   "cell_type": "code",
   "execution_count": 4,
   "id": "f84739e7",
   "metadata": {},
   "outputs": [],
   "source": [
    "basepath = 'C:/Users/User 1/Desktop/Honours Project/Data'"
   ]
  },
  {
   "cell_type": "markdown",
   "id": "d966f9bf",
   "metadata": {},
   "source": [
    "The next cell defines the source position and the search radius."
   ]
  },
  {
   "cell_type": "code",
   "execution_count": 5,
   "id": "7d26b12d",
   "metadata": {},
   "outputs": [],
   "source": [
    "sourcepos = SkyCoord(83.633, 22.014, unit=\"deg\", frame='icrs')\n",
    "\n",
    "selectradius = 2.5*u.deg"
   ]
  },
  {
   "cell_type": "markdown",
   "id": "8cee349c",
   "metadata": {},
   "source": [
    "## select the analysis configuration"
   ]
  },
  {
   "cell_type": "markdown",
   "id": "52743363",
   "metadata": {},
   "source": [
    "The following cell lists all available configurations with their respective number."
   ]
  },
  {
   "cell_type": "code",
   "execution_count": 6,
   "id": "b2389320",
   "metadata": {},
   "outputs": [
    {
     "name": "stdout",
     "output_type": "stream",
     "text": [
      "0. ModelPlus_HESSI_Stereo_Faint\n",
      "1. ModelPlus_HESSI_Stereo_Std\n",
      "2. ModelPlus_HESS_Combined_Stereo_Faint\n",
      "3. ModelPlus_HESS_Combined_Stereo_Std\n"
     ]
    }
   ],
   "source": [
    "analysis_configs = os.listdir(basepath)\n",
    "\n",
    "c = 0\n",
    "\n",
    "for i in analysis_configs :\n",
    "\n",
    "    print('{}. {}'.format(c, i))\n",
    "    \n",
    "    c+=1"
   ]
  },
  {
   "cell_type": "markdown",
   "id": "998a9ad8",
   "metadata": {},
   "source": [
    "Choose a selection and put the number in the next cell. Note that the numbers may change when more configurations are added."
   ]
  },
  {
   "cell_type": "code",
   "execution_count": 7,
   "id": "288a7bea",
   "metadata": {},
   "outputs": [],
   "source": [
    "conf = analysis_configs[3]"
   ]
  },
  {
   "cell_type": "code",
   "execution_count": 8,
   "id": "ee2e9d30",
   "metadata": {},
   "outputs": [
    {
     "name": "stdout",
     "output_type": "stream",
     "text": [
      "You have chosen configuration ModelPlus_HESS_Combined_Stereo_Std.\n"
     ]
    }
   ],
   "source": [
    "print('You have chosen configuration {}.'.format(conf))"
   ]
  },
  {
   "cell_type": "markdown",
   "id": "77960a06",
   "metadata": {},
   "source": [
    "## cone search, run list and preparation of observations"
   ]
  },
  {
   "cell_type": "code",
   "execution_count": 9,
   "id": "436a2f8a",
   "metadata": {},
   "outputs": [],
   "source": [
    "os.environ['HESS_FITS'] = basepath"
   ]
  },
  {
   "cell_type": "code",
   "execution_count": 10,
   "id": "0a074ddd",
   "metadata": {},
   "outputs": [],
   "source": [
    "path = os.path.join(basepath, conf)"
   ]
  },
  {
   "cell_type": "code",
   "execution_count": 11,
   "id": "30af8450",
   "metadata": {},
   "outputs": [],
   "source": [
    "from gammapy.data import DataStore"
   ]
  },
  {
   "cell_type": "code",
   "execution_count": 12,
   "id": "6e35c40a",
   "metadata": {},
   "outputs": [],
   "source": [
    "data_store = DataStore.from_dir(path)"
   ]
  },
  {
   "cell_type": "code",
   "execution_count": 13,
   "id": "740f2a56",
   "metadata": {},
   "outputs": [],
   "source": [
    "conesearch = data_store.obs_table.select_sky_circle(sourcepos, selectradius)"
   ]
  },
  {
   "cell_type": "code",
   "execution_count": 14,
   "id": "396f93fe",
   "metadata": {},
   "outputs": [],
   "source": [
    "import numpy as np"
   ]
  },
  {
   "cell_type": "markdown",
   "id": "38b1ea85",
   "metadata": {},
   "source": [
    "The runs have different telescope configurations. Each number stands for one telescpe, 1 - 4 being the small telescopes and 5 the large telescope:"
   ]
  },
  {
   "cell_type": "code",
   "execution_count": 15,
   "id": "3227e023",
   "metadata": {},
   "outputs": [
    {
     "data": {
      "text/html": [
       "&lt;Column name=&apos;TELLIST&apos; dtype=&apos;bytes9&apos; length=1&gt;\n",
       "<table>\n",
       "<tr><td>1,2,3,4,5</td></tr>\n",
       "</table>"
      ],
      "text/plain": [
       "<Column name='TELLIST' dtype='bytes9' length=1>\n",
       "1,2,3,4,5"
      ]
     },
     "execution_count": 15,
     "metadata": {},
     "output_type": "execute_result"
    }
   ],
   "source": [
    "np.unique(conesearch['TELLIST'])"
   ]
  },
  {
   "cell_type": "markdown",
   "id": "9bbb8382",
   "metadata": {},
   "source": [
    "We want only the runs containing all telescopes:"
   ]
  },
  {
   "cell_type": "code",
   "execution_count": 16,
   "id": "47e629d1",
   "metadata": {},
   "outputs": [],
   "source": [
    "telsearch = conesearch[conesearch['TELLIST'] == '1,2,3,4,5']"
   ]
  },
  {
   "cell_type": "code",
   "execution_count": 17,
   "id": "bf04643b",
   "metadata": {},
   "outputs": [],
   "source": [
    "runlist = telsearch['OBS_ID'].value"
   ]
  },
  {
   "cell_type": "markdown",
   "id": "170542f7",
   "metadata": {},
   "source": [
    "The run list is:"
   ]
  },
  {
   "cell_type": "code",
   "execution_count": 18,
   "id": "83d174ec",
   "metadata": {},
   "outputs": [
    {
     "name": "stdout",
     "output_type": "stream",
     "text": [
      "[ 88973  88986  88951  88952  82725  82782  90408  90564  90439  90478\n",
      "  90415  90441  90410  90437  90440 135629 135635 135667 135666 135634\n",
      " 135665 103805 103806 103849 103851 103848 103957 103850 103847 103956\n",
      " 103803 103804 101451  79556 143050 143161 143136 143137 143165 143134\n",
      " 143082 143135 135520 135482 135481 135479 135480 135521 135271 135306\n",
      " 135307 135247 135246 135272 135333 135270 135273 125794 125719 125716\n",
      " 125793 125757 125715 125717 142897 142990 142989 142896 102987 102988\n",
      "  82038 136480  89732 126535 126538 126540 126536  79858  79862  79884\n",
      "  79882  79860  79885  79859  79881  90317  90350  90319  90277  90239\n",
      "  90203  90380  90275  90321  90318  90352  90381  90382  90237  90376\n",
      "  90377  90276  90378  90351  90320  90278  90238  90349  90379  90348\n",
      " 102576 102575 102402 101135 101071 101166 103698 103737 103697 103738\n",
      " 143211 143212 143210 143213 142428 142510 142593 142463 142427 142565\n",
      " 142592 142566 142530 142462 142567 142460 142588 142430 142594 142464\n",
      " 142568 142563 142564 142590 100553 100573 100555 100554 100454 100572\n",
      " 100574 100453 100452 144011 144012 101295 101320 101321 142392 128019\n",
      " 128016 128017 128018 137343 127504 127503 127544 127545  80126 142760\n",
      " 142670 142651 142667 142630 142758 142666 142629 142668 142652 142636\n",
      " 142654 142653 142627 142628 142669 142650 141861 141998 141924 141997\n",
      " 135158 135159  89828 127955 127824 127958 127954 127825 127990 127989\n",
      " 127956 127988 127957 126115 126116 102293 154376 154378 154377]\n"
     ]
    }
   ],
   "source": [
    "print(runlist)"
   ]
  },
  {
   "cell_type": "markdown",
   "id": "201d1db4",
   "metadata": {},
   "source": [
    "Now we get the observations for these runs:"
   ]
  },
  {
   "cell_type": "code",
   "execution_count": 19,
   "id": "c6aa4563",
   "metadata": {},
   "outputs": [],
   "source": [
    "observations = data_store.get_observations(runlist)"
   ]
  },
  {
   "cell_type": "markdown",
   "id": "068482d7",
   "metadata": {},
   "source": [
    "## Analysis"
   ]
  },
  {
   "cell_type": "code",
   "execution_count": 20,
   "id": "ae3d2d1b",
   "metadata": {},
   "outputs": [],
   "source": [
    "import matplotlib.pyplot as plt\n",
    "from regions import CircleSkyRegion\n",
    "import scipy.stats\n",
    "\n",
    "from gammapy.makers import MapDatasetMaker, FoVBackgroundMaker\n",
    "from gammapy.analysis import Analysis, AnalysisConfig\n",
    "from gammapy.makers import (\n",
    "    SafeMaskMaker,\n",
    "    SpectrumDatasetMaker,\n",
    "    ReflectedRegionsBackgroundMaker,\n",
    "    RingBackgroundMaker,\n",
    ")\n",
    "\n",
    "from gammapy.estimators import (\n",
    "    ExcessMapEstimator,\n",
    "    FluxPointsEstimator,\n",
    ")\n",
    "\n",
    "from gammapy.maps import Map, WcsGeom, WcsNDMap, MapAxis\n",
    "from gammapy.datasets import MapDatasetOnOff\n",
    "from gammapy.datasets import MapDataset\n",
    "from gammapy.data import EventList\n",
    "from gammapy.modeling import Fit\n",
    "from gammapy.datasets import (\n",
    "    Datasets,\n",
    "    SpectrumDataset,\n",
    "    SpectrumDatasetOnOff,\n",
    "    FluxPointsDataset,\n",
    ")\n",
    "\n",
    "from gammapy.modeling.models import (\n",
    "    PowerLawSpectralModel,\n",
    "    PointSpatialModel,\n",
    "    FoVBackgroundModel,\n",
    "    ExpCutoffPowerLawSpectralModel,\n",
    "    create_crab_spectral_model,\n",
    "    SkyModel,\n",
    ")\n",
    "from gammapy.visualization import plot_spectrum_datasets_off_regions"
   ]
  },
  {
   "cell_type": "code",
   "execution_count": 21,
   "id": "8c2748e9",
   "metadata": {},
   "outputs": [],
   "source": [
    "final_results= {}                        #Creating a final_results dictionary to save all our results\n",
    "config = AnalysisConfig()                #Creating an AnalysisConfig object"
   ]
  },
  {
   "cell_type": "code",
   "execution_count": 22,
   "id": "eb2d648c",
   "metadata": {},
   "outputs": [],
   "source": [
    "#Filling in the config object with the necessay information to allow for a cone search for the reduced datasets\n",
    "config.observations.datastore = path\n",
    "config.observations.obs_cone = {\n",
    "    \"frame\": \"icrs\",\n",
    "    \"lon\": sourcepos.ra,\n",
    "    \"lat\": sourcepos.dec,\n",
    "    \"radius\": 2.5 * u.deg,\n",
    "}"
   ]
  },
  {
   "cell_type": "code",
   "execution_count": 23,
   "id": "bea0332a",
   "metadata": {},
   "outputs": [],
   "source": [
    "config.datasets.type = \"3d\"                           #We are performing a 3D analysis\n",
    "\n",
    "#Fixing the WCS geometry of the datasets\n",
    "config.datasets.geom.wcs.skydir = {\n",
    "    \"lon\": sourcepos.ra,\n",
    "    \"lat\": sourcepos.dec,\n",
    "    \"frame\": \"icrs\",\n",
    "} "
   ]
  },
  {
   "cell_type": "code",
   "execution_count": 24,
   "id": "ac7fbe9b",
   "metadata": {},
   "outputs": [
    {
     "name": "stderr",
     "output_type": "stream",
     "text": [
      "Setting logging config: {'level': 'INFO', 'filename': None, 'filemode': None, 'format': None, 'datefmt': None}\n"
     ]
    }
   ],
   "source": [
    "analysis = Analysis(config)"
   ]
  },
  {
   "cell_type": "code",
   "execution_count": 25,
   "id": "4e54c819",
   "metadata": {},
   "outputs": [
    {
     "name": "stdout",
     "output_type": "stream",
     "text": [
      "AnalysisConfig\n",
      "\n",
      "    general:\n",
      "        log: {level: INFO, filename: null, filemode: null, format: null, datefmt: null}\n",
      "        outdir: .\n",
      "        n_jobs: 1\n",
      "        datasets_file: null\n",
      "        models_file: null\n",
      "    observations:\n",
      "        datastore: C:\\Users\\User 1\\Desktop\\Honours Project\\Data\\ModelPlus_HESS_Combined_Stereo_Std\n",
      "        obs_ids: []\n",
      "        obs_file: null\n",
      "        obs_cone: {frame: icrs, lon: 83.633 deg, lat: 22.014 deg, radius: 2.5 deg}\n",
      "        obs_time: {start: null, stop: null}\n",
      "        required_irf: [aeff, edisp, psf, bkg]\n",
      "    datasets:\n",
      "        type: 3d\n",
      "        stack: true\n",
      "        geom:\n",
      "            wcs:\n",
      "                skydir: {frame: icrs, lon: 83.633 deg, lat: 22.014 deg}\n",
      "                binsize: 0.02 deg\n",
      "                width: {width: 5.0 deg, height: 5.0 deg}\n",
      "                binsize_irf: 0.2 deg\n",
      "            selection: {offset_max: 2.5 deg}\n",
      "            axes:\n",
      "                energy: {min: 1.0 TeV, max: 10.0 TeV, nbins: 5}\n",
      "                energy_true: {min: 0.5 TeV, max: 20.0 TeV, nbins: 16}\n",
      "        map_selection: [counts, exposure, background, psf, edisp]\n",
      "        background:\n",
      "            method: null\n",
      "            exclusion: null\n",
      "            parameters: {}\n",
      "        safe_mask:\n",
      "            methods: [aeff-default]\n",
      "            parameters: {}\n",
      "        on_region: {frame: null, lon: null, lat: null, radius: null}\n",
      "        containment_correction: true\n",
      "    fit:\n",
      "        fit_range: {min: null, max: null}\n",
      "    flux_points:\n",
      "        energy: {min: null, max: null, nbins: null}\n",
      "        source: source\n",
      "        parameters: {selection_optional: all}\n",
      "    excess_map:\n",
      "        correlation_radius: 0.1 deg\n",
      "        parameters: {}\n",
      "        energy_edges: {min: null, max: null, nbins: null}\n",
      "    light_curve:\n",
      "        time_intervals: {start: null, stop: null}\n",
      "        energy_edges: {min: null, max: null, nbins: null}\n",
      "        source: source\n",
      "        parameters: {selection_optional: all}\n",
      "    \n"
     ]
    }
   ],
   "source": [
    "print(analysis.config)                   #Checking the analysis config we have"
   ]
  },
  {
   "cell_type": "code",
   "execution_count": 26,
   "id": "0d6fb6c0",
   "metadata": {},
   "outputs": [
    {
     "name": "stderr",
     "output_type": "stream",
     "text": [
      "Fetching observations.\n",
      "Observations selected: 209 out of 209.\n",
      "Number of selected observations: 209\n"
     ]
    }
   ],
   "source": [
    "analysis.get_observations()"
   ]
  },
  {
   "cell_type": "code",
   "execution_count": 27,
   "id": "c30102a1",
   "metadata": {},
   "outputs": [
    {
     "name": "stderr",
     "output_type": "stream",
     "text": [
      "Creating reference dataset and makers.\n",
      "Creating the background Maker.\n",
      "No background maker set. Check configuration.\n",
      "Start the data reduction loop.\n",
      "Computing dataset for observation 88973\n",
      "Running MapDatasetMaker\n"
     ]
    },
    {
     "ename": "FileNotFoundError",
     "evalue": "[Errno 2] No such file or directory: 'C:\\\\Users\\\\User 1\\\\Desktop\\\\Honours Project\\\\Data\\\\ModelPlus_HESS_Combined_Stereo_Std\\\\None'",
     "output_type": "error",
     "traceback": [
      "\u001b[1;31m---------------------------------------------------------------------------\u001b[0m",
      "\u001b[1;31mKeyError\u001b[0m                                  Traceback (most recent call last)",
      "File \u001b[1;32m~\\anaconda3.1\\envs\\gammapy-1.0.1\\lib\\site-packages\\gammapy\\utils\\fits.py:124\u001b[0m, in \u001b[0;36mLazyFitsData.__get__\u001b[1;34m(self, instance, objtype)\u001b[0m\n\u001b[0;32m    123\u001b[0m \u001b[38;5;28;01mtry\u001b[39;00m:\n\u001b[1;32m--> 124\u001b[0m     \u001b[38;5;28;01mreturn\u001b[39;00m \u001b[43minstance\u001b[49m\u001b[38;5;241;43m.\u001b[39;49m\u001b[38;5;18;43m__dict__\u001b[39;49m\u001b[43m[\u001b[49m\u001b[38;5;28;43mself\u001b[39;49m\u001b[38;5;241;43m.\u001b[39;49m\u001b[43mname\u001b[49m\u001b[43m]\u001b[49m\n\u001b[0;32m    125\u001b[0m \u001b[38;5;28;01mexcept\u001b[39;00m \u001b[38;5;167;01mKeyError\u001b[39;00m:\n",
      "\u001b[1;31mKeyError\u001b[0m: 'bkg'",
      "\nDuring handling of the above exception, another exception occurred:\n",
      "\u001b[1;31mFileNotFoundError\u001b[0m                         Traceback (most recent call last)",
      "Cell \u001b[1;32mIn[27], line 1\u001b[0m\n\u001b[1;32m----> 1\u001b[0m \u001b[43manalysis\u001b[49m\u001b[38;5;241;43m.\u001b[39;49m\u001b[43mget_datasets\u001b[49m\u001b[43m(\u001b[49m\u001b[43m)\u001b[49m\n",
      "File \u001b[1;32m~\\anaconda3.1\\envs\\gammapy-1.0.1\\lib\\site-packages\\gammapy\\analysis\\core.py:167\u001b[0m, in \u001b[0;36mAnalysis.get_datasets\u001b[1;34m(self)\u001b[0m\n\u001b[0;32m    165\u001b[0m     \u001b[38;5;28mself\u001b[39m\u001b[38;5;241m.\u001b[39m_spectrum_extraction()\n\u001b[0;32m    166\u001b[0m \u001b[38;5;28;01melse\u001b[39;00m:  \u001b[38;5;66;03m# 3d\u001b[39;00m\n\u001b[1;32m--> 167\u001b[0m     \u001b[38;5;28;43mself\u001b[39;49m\u001b[38;5;241;43m.\u001b[39;49m\u001b[43m_map_making\u001b[49m\u001b[43m(\u001b[49m\u001b[43m)\u001b[49m\n",
      "File \u001b[1;32m~\\anaconda3.1\\envs\\gammapy-1.0.1\\lib\\site-packages\\gammapy\\analysis\\core.py:546\u001b[0m, in \u001b[0;36mAnalysis._map_making\u001b[1;34m(self)\u001b[0m\n\u001b[0;32m    537\u001b[0m log\u001b[38;5;241m.\u001b[39minfo(\u001b[38;5;124m\"\u001b[39m\u001b[38;5;124mStart the data reduction loop.\u001b[39m\u001b[38;5;124m\"\u001b[39m)\n\u001b[0;32m    539\u001b[0m datasets_maker \u001b[38;5;241m=\u001b[39m DatasetsMaker(\n\u001b[0;32m    540\u001b[0m     makers,\n\u001b[0;32m    541\u001b[0m     stack_datasets\u001b[38;5;241m=\u001b[39mdatasets_settings\u001b[38;5;241m.\u001b[39mstack,\n\u001b[1;32m   (...)\u001b[0m\n\u001b[0;32m    544\u001b[0m     cutout_width\u001b[38;5;241m=\u001b[39m\u001b[38;5;241m2\u001b[39m \u001b[38;5;241m*\u001b[39m offset_max,\n\u001b[0;32m    545\u001b[0m )\n\u001b[1;32m--> 546\u001b[0m \u001b[38;5;28mself\u001b[39m\u001b[38;5;241m.\u001b[39mdatasets \u001b[38;5;241m=\u001b[39m \u001b[43mdatasets_maker\u001b[49m\u001b[38;5;241;43m.\u001b[39;49m\u001b[43mrun\u001b[49m\u001b[43m(\u001b[49m\u001b[43mstacked\u001b[49m\u001b[43m,\u001b[49m\u001b[43m \u001b[49m\u001b[38;5;28;43mself\u001b[39;49m\u001b[38;5;241;43m.\u001b[39;49m\u001b[43mobservations\u001b[49m\u001b[43m)\u001b[49m\n",
      "File \u001b[1;32m~\\anaconda3.1\\envs\\gammapy-1.0.1\\lib\\site-packages\\gammapy\\makers\\reduce.py:181\u001b[0m, in \u001b[0;36mDatasetsMaker.run\u001b[1;34m(self, dataset, observations, datasets)\u001b[0m\n\u001b[0;32m    179\u001b[0m \u001b[38;5;28;01melse\u001b[39;00m:\n\u001b[0;32m    180\u001b[0m     \u001b[38;5;28;01mfor\u001b[39;00m base, obs \u001b[38;5;129;01min\u001b[39;00m \u001b[38;5;28mzip\u001b[39m(datasets, observations):\n\u001b[1;32m--> 181\u001b[0m         dataset \u001b[38;5;241m=\u001b[39m \u001b[38;5;28;43mself\u001b[39;49m\u001b[38;5;241;43m.\u001b[39;49m\u001b[43mmake_dataset\u001b[49m\u001b[43m(\u001b[49m\u001b[43mbase\u001b[49m\u001b[43m,\u001b[49m\u001b[43m \u001b[49m\u001b[43mobs\u001b[49m\u001b[43m)\u001b[49m\n\u001b[0;32m    182\u001b[0m         \u001b[38;5;28mself\u001b[39m\u001b[38;5;241m.\u001b[39mcallback(dataset)\n\u001b[0;32m    184\u001b[0m \u001b[38;5;28;01mif\u001b[39;00m \u001b[38;5;28mself\u001b[39m\u001b[38;5;241m.\u001b[39mstack_datasets:\n",
      "File \u001b[1;32m~\\anaconda3.1\\envs\\gammapy-1.0.1\\lib\\site-packages\\gammapy\\makers\\reduce.py:109\u001b[0m, in \u001b[0;36mDatasetsMaker.make_dataset\u001b[1;34m(self, dataset, observation)\u001b[0m\n\u001b[0;32m    107\u001b[0m \u001b[38;5;28;01mfor\u001b[39;00m maker \u001b[38;5;129;01min\u001b[39;00m \u001b[38;5;28mself\u001b[39m\u001b[38;5;241m.\u001b[39mmakers:\n\u001b[0;32m    108\u001b[0m     log\u001b[38;5;241m.\u001b[39minfo(\u001b[38;5;124mf\u001b[39m\u001b[38;5;124m\"\u001b[39m\u001b[38;5;124mRunning \u001b[39m\u001b[38;5;132;01m{\u001b[39;00mmaker\u001b[38;5;241m.\u001b[39mtag\u001b[38;5;132;01m}\u001b[39;00m\u001b[38;5;124m\"\u001b[39m)\n\u001b[1;32m--> 109\u001b[0m     dataset_obs \u001b[38;5;241m=\u001b[39m \u001b[43mmaker\u001b[49m\u001b[38;5;241;43m.\u001b[39;49m\u001b[43mrun\u001b[49m\u001b[43m(\u001b[49m\u001b[43mdataset\u001b[49m\u001b[38;5;241;43m=\u001b[39;49m\u001b[43mdataset_obs\u001b[49m\u001b[43m,\u001b[49m\u001b[43m \u001b[49m\u001b[43mobservation\u001b[49m\u001b[38;5;241;43m=\u001b[39;49m\u001b[43mobservation\u001b[49m\u001b[43m)\u001b[49m\n\u001b[0;32m    110\u001b[0m \u001b[38;5;28;01mreturn\u001b[39;00m dataset_obs\n",
      "File \u001b[1;32m~\\anaconda3.1\\envs\\gammapy-1.0.1\\lib\\site-packages\\gammapy\\makers\\map.py:399\u001b[0m, in \u001b[0;36mMapDatasetMaker.run\u001b[1;34m(self, dataset, observation)\u001b[0m\n\u001b[0;32m    396\u001b[0m     kwargs[\u001b[38;5;124m\"\u001b[39m\u001b[38;5;124mexposure\u001b[39m\u001b[38;5;124m\"\u001b[39m] \u001b[38;5;241m=\u001b[39m exposure\n\u001b[0;32m    398\u001b[0m \u001b[38;5;28;01mif\u001b[39;00m \u001b[38;5;124m\"\u001b[39m\u001b[38;5;124mbackground\u001b[39m\u001b[38;5;124m\"\u001b[39m \u001b[38;5;129;01min\u001b[39;00m \u001b[38;5;28mself\u001b[39m\u001b[38;5;241m.\u001b[39mselection:\n\u001b[1;32m--> 399\u001b[0m     kwargs[\u001b[38;5;124m\"\u001b[39m\u001b[38;5;124mbackground\u001b[39m\u001b[38;5;124m\"\u001b[39m] \u001b[38;5;241m=\u001b[39m \u001b[38;5;28;43mself\u001b[39;49m\u001b[38;5;241;43m.\u001b[39;49m\u001b[43mmake_background\u001b[49m\u001b[43m(\u001b[49m\n\u001b[0;32m    400\u001b[0m \u001b[43m        \u001b[49m\u001b[43mdataset\u001b[49m\u001b[38;5;241;43m.\u001b[39;49m\u001b[43mcounts\u001b[49m\u001b[38;5;241;43m.\u001b[39;49m\u001b[43mgeom\u001b[49m\u001b[43m,\u001b[49m\u001b[43m \u001b[49m\u001b[43mobservation\u001b[49m\n\u001b[0;32m    401\u001b[0m \u001b[43m    \u001b[49m\u001b[43m)\u001b[49m\n\u001b[0;32m    403\u001b[0m \u001b[38;5;28;01mif\u001b[39;00m \u001b[38;5;124m\"\u001b[39m\u001b[38;5;124mpsf\u001b[39m\u001b[38;5;124m\"\u001b[39m \u001b[38;5;129;01min\u001b[39;00m \u001b[38;5;28mself\u001b[39m\u001b[38;5;241m.\u001b[39mselection:\n\u001b[0;32m    404\u001b[0m     psf \u001b[38;5;241m=\u001b[39m \u001b[38;5;28mself\u001b[39m\u001b[38;5;241m.\u001b[39mmake_psf(dataset\u001b[38;5;241m.\u001b[39mpsf\u001b[38;5;241m.\u001b[39mpsf_map\u001b[38;5;241m.\u001b[39mgeom, observation)\n",
      "File \u001b[1;32m~\\anaconda3.1\\envs\\gammapy-1.0.1\\lib\\site-packages\\gammapy\\makers\\map.py:222\u001b[0m, in \u001b[0;36mMapDatasetMaker.make_background\u001b[1;34m(self, geom, observation)\u001b[0m\n\u001b[0;32m    206\u001b[0m \u001b[38;5;28;01mdef\u001b[39;00m \u001b[38;5;21mmake_background\u001b[39m(\u001b[38;5;28mself\u001b[39m, geom, observation):\n\u001b[0;32m    207\u001b[0m \u001b[38;5;250m    \u001b[39m\u001b[38;5;124;03m\"\"\"Make background map.\u001b[39;00m\n\u001b[0;32m    208\u001b[0m \n\u001b[0;32m    209\u001b[0m \u001b[38;5;124;03m    Parameters\u001b[39;00m\n\u001b[1;32m   (...)\u001b[0m\n\u001b[0;32m    219\u001b[0m \u001b[38;5;124;03m        Background map.\u001b[39;00m\n\u001b[0;32m    220\u001b[0m \u001b[38;5;124;03m    \"\"\"\u001b[39;00m\n\u001b[1;32m--> 222\u001b[0m     bkg \u001b[38;5;241m=\u001b[39m \u001b[43mobservation\u001b[49m\u001b[38;5;241;43m.\u001b[39;49m\u001b[43mbkg\u001b[49m\n\u001b[0;32m    224\u001b[0m     \u001b[38;5;28;01mif\u001b[39;00m \u001b[38;5;28misinstance\u001b[39m(bkg, Map):\n\u001b[0;32m    225\u001b[0m         \u001b[38;5;28;01mreturn\u001b[39;00m bkg\u001b[38;5;241m.\u001b[39minterp_to_geom(geom\u001b[38;5;241m=\u001b[39mgeom, preserve_counts\u001b[38;5;241m=\u001b[39m\u001b[38;5;28;01mTrue\u001b[39;00m)\n",
      "File \u001b[1;32m~\\anaconda3.1\\envs\\gammapy-1.0.1\\lib\\site-packages\\gammapy\\utils\\fits.py:128\u001b[0m, in \u001b[0;36mLazyFitsData.__get__\u001b[1;34m(self, instance, objtype)\u001b[0m\n\u001b[0;32m    126\u001b[0m hdu_loc \u001b[38;5;241m=\u001b[39m instance\u001b[38;5;241m.\u001b[39m\u001b[38;5;18m__dict__\u001b[39m[\u001b[38;5;124mf\u001b[39m\u001b[38;5;124m\"\u001b[39m\u001b[38;5;124m_\u001b[39m\u001b[38;5;132;01m{\u001b[39;00m\u001b[38;5;28mself\u001b[39m\u001b[38;5;241m.\u001b[39mname\u001b[38;5;132;01m}\u001b[39;00m\u001b[38;5;124m_hdu\u001b[39m\u001b[38;5;124m\"\u001b[39m]\n\u001b[0;32m    127\u001b[0m \u001b[38;5;28;01mtry\u001b[39;00m:\n\u001b[1;32m--> 128\u001b[0m     value \u001b[38;5;241m=\u001b[39m \u001b[43mhdu_loc\u001b[49m\u001b[38;5;241;43m.\u001b[39;49m\u001b[43mload\u001b[49m\u001b[43m(\u001b[49m\u001b[43m)\u001b[49m\n\u001b[0;32m    129\u001b[0m \u001b[38;5;28;01mexcept\u001b[39;00m \u001b[38;5;167;01mKeyError\u001b[39;00m:\n\u001b[0;32m    130\u001b[0m     value \u001b[38;5;241m=\u001b[39m \u001b[38;5;28;01mNone\u001b[39;00m\n",
      "File \u001b[1;32m~\\anaconda3.1\\envs\\gammapy-1.0.1\\lib\\site-packages\\gammapy\\utils\\fits.py:100\u001b[0m, in \u001b[0;36mHDULocation.load\u001b[1;34m(self)\u001b[0m\n\u001b[0;32m     97\u001b[0m \u001b[38;5;28;01melse\u001b[39;00m:\n\u001b[0;32m     98\u001b[0m     \u001b[38;5;28mcls\u001b[39m \u001b[38;5;241m=\u001b[39m IRF_REGISTRY\u001b[38;5;241m.\u001b[39mget_cls(hdu_class)\n\u001b[1;32m--> 100\u001b[0m     \u001b[38;5;28;01mreturn\u001b[39;00m \u001b[38;5;28;43mcls\u001b[39;49m\u001b[38;5;241;43m.\u001b[39;49m\u001b[43mread\u001b[49m\u001b[43m(\u001b[49m\u001b[43mfilename\u001b[49m\u001b[43m,\u001b[49m\u001b[43m \u001b[49m\u001b[43mhdu\u001b[49m\u001b[38;5;241;43m=\u001b[39;49m\u001b[43mhdu\u001b[49m\u001b[43m)\u001b[49m\n",
      "File \u001b[1;32m~\\anaconda3.1\\envs\\gammapy-1.0.1\\lib\\site-packages\\gammapy\\irf\\core.py:433\u001b[0m, in \u001b[0;36mIRF.read\u001b[1;34m(cls, filename, hdu, format)\u001b[0m\n\u001b[0;32m    415\u001b[0m \u001b[38;5;129m@classmethod\u001b[39m\n\u001b[0;32m    416\u001b[0m \u001b[38;5;28;01mdef\u001b[39;00m \u001b[38;5;21mread\u001b[39m(\u001b[38;5;28mcls\u001b[39m, filename, hdu\u001b[38;5;241m=\u001b[39m\u001b[38;5;28;01mNone\u001b[39;00m, \u001b[38;5;28mformat\u001b[39m\u001b[38;5;241m=\u001b[39m\u001b[38;5;124m\"\u001b[39m\u001b[38;5;124mgadf-dl3\u001b[39m\u001b[38;5;124m\"\u001b[39m):\n\u001b[0;32m    417\u001b[0m \u001b[38;5;250m    \u001b[39m\u001b[38;5;124;03m\"\"\"Read from file.\u001b[39;00m\n\u001b[0;32m    418\u001b[0m \n\u001b[0;32m    419\u001b[0m \u001b[38;5;124;03m    Parameters\u001b[39;00m\n\u001b[1;32m   (...)\u001b[0m\n\u001b[0;32m    431\u001b[0m \u001b[38;5;124;03m        IRF class\u001b[39;00m\n\u001b[0;32m    432\u001b[0m \u001b[38;5;124;03m    \"\"\"\u001b[39;00m\n\u001b[1;32m--> 433\u001b[0m     \u001b[38;5;28;01mwith\u001b[39;00m \u001b[43mfits\u001b[49m\u001b[38;5;241;43m.\u001b[39;49m\u001b[43mopen\u001b[49m\u001b[43m(\u001b[49m\u001b[38;5;28;43mstr\u001b[39;49m\u001b[43m(\u001b[49m\u001b[43mmake_path\u001b[49m\u001b[43m(\u001b[49m\u001b[43mfilename\u001b[49m\u001b[43m)\u001b[49m\u001b[43m)\u001b[49m\u001b[43m,\u001b[49m\u001b[43m \u001b[49m\u001b[43mmemmap\u001b[49m\u001b[38;5;241;43m=\u001b[39;49m\u001b[38;5;28;43;01mFalse\u001b[39;49;00m\u001b[43m)\u001b[49m \u001b[38;5;28;01mas\u001b[39;00m hdulist:\n\u001b[0;32m    434\u001b[0m         \u001b[38;5;28;01mreturn\u001b[39;00m \u001b[38;5;28mcls\u001b[39m\u001b[38;5;241m.\u001b[39mfrom_hdulist(hdulist, hdu\u001b[38;5;241m=\u001b[39mhdu)\n",
      "File \u001b[1;32m~\\anaconda3.1\\envs\\gammapy-1.0.1\\lib\\site-packages\\astropy\\io\\fits\\hdu\\hdulist.py:175\u001b[0m, in \u001b[0;36mfitsopen\u001b[1;34m(name, mode, memmap, save_backup, cache, lazy_load_hdus, ignore_missing_simple, **kwargs)\u001b[0m\n\u001b[0;32m    172\u001b[0m \u001b[38;5;28;01mif\u001b[39;00m \u001b[38;5;129;01mnot\u001b[39;00m name:\n\u001b[0;32m    173\u001b[0m     \u001b[38;5;28;01mraise\u001b[39;00m \u001b[38;5;167;01mValueError\u001b[39;00m(\u001b[38;5;124mf\u001b[39m\u001b[38;5;124m'\u001b[39m\u001b[38;5;124mEmpty filename: \u001b[39m\u001b[38;5;132;01m{\u001b[39;00mname\u001b[38;5;132;01m!r}\u001b[39;00m\u001b[38;5;124m'\u001b[39m)\n\u001b[1;32m--> 175\u001b[0m \u001b[38;5;28;01mreturn\u001b[39;00m HDUList\u001b[38;5;241m.\u001b[39mfromfile(name, mode, memmap, save_backup, cache,\n\u001b[0;32m    176\u001b[0m                         lazy_load_hdus, ignore_missing_simple, \u001b[38;5;241m*\u001b[39m\u001b[38;5;241m*\u001b[39mkwargs)\n",
      "File \u001b[1;32m~\\anaconda3.1\\envs\\gammapy-1.0.1\\lib\\site-packages\\astropy\\io\\fits\\hdu\\hdulist.py:410\u001b[0m, in \u001b[0;36mHDUList.fromfile\u001b[1;34m(cls, fileobj, mode, memmap, save_backup, cache, lazy_load_hdus, ignore_missing_simple, **kwargs)\u001b[0m\n\u001b[0;32m    398\u001b[0m \u001b[38;5;129m@classmethod\u001b[39m\n\u001b[0;32m    399\u001b[0m \u001b[38;5;28;01mdef\u001b[39;00m \u001b[38;5;21mfromfile\u001b[39m(\u001b[38;5;28mcls\u001b[39m, fileobj, mode\u001b[38;5;241m=\u001b[39m\u001b[38;5;28;01mNone\u001b[39;00m, memmap\u001b[38;5;241m=\u001b[39m\u001b[38;5;28;01mNone\u001b[39;00m,\n\u001b[0;32m    400\u001b[0m              save_backup\u001b[38;5;241m=\u001b[39m\u001b[38;5;28;01mFalse\u001b[39;00m, cache\u001b[38;5;241m=\u001b[39m\u001b[38;5;28;01mTrue\u001b[39;00m, lazy_load_hdus\u001b[38;5;241m=\u001b[39m\u001b[38;5;28;01mTrue\u001b[39;00m,\n\u001b[0;32m    401\u001b[0m              ignore_missing_simple\u001b[38;5;241m=\u001b[39m\u001b[38;5;28;01mFalse\u001b[39;00m, \u001b[38;5;241m*\u001b[39m\u001b[38;5;241m*\u001b[39mkwargs):\n\u001b[0;32m    402\u001b[0m \u001b[38;5;250m    \u001b[39m\u001b[38;5;124;03m\"\"\"\u001b[39;00m\n\u001b[0;32m    403\u001b[0m \u001b[38;5;124;03m    Creates an `HDUList` instance from a file-like object.\u001b[39;00m\n\u001b[0;32m    404\u001b[0m \n\u001b[1;32m   (...)\u001b[0m\n\u001b[0;32m    407\u001b[0m \u001b[38;5;124;03m    documentation for details of the parameters accepted by this method).\u001b[39;00m\n\u001b[0;32m    408\u001b[0m \u001b[38;5;124;03m    \"\"\"\u001b[39;00m\n\u001b[1;32m--> 410\u001b[0m     \u001b[38;5;28;01mreturn\u001b[39;00m \u001b[38;5;28mcls\u001b[39m\u001b[38;5;241m.\u001b[39m_readfrom(fileobj\u001b[38;5;241m=\u001b[39mfileobj, mode\u001b[38;5;241m=\u001b[39mmode, memmap\u001b[38;5;241m=\u001b[39mmemmap,\n\u001b[0;32m    411\u001b[0m                          save_backup\u001b[38;5;241m=\u001b[39msave_backup, cache\u001b[38;5;241m=\u001b[39mcache,\n\u001b[0;32m    412\u001b[0m                          ignore_missing_simple\u001b[38;5;241m=\u001b[39mignore_missing_simple,\n\u001b[0;32m    413\u001b[0m                          lazy_load_hdus\u001b[38;5;241m=\u001b[39mlazy_load_hdus, \u001b[38;5;241m*\u001b[39m\u001b[38;5;241m*\u001b[39mkwargs)\n",
      "File \u001b[1;32m~\\anaconda3.1\\envs\\gammapy-1.0.1\\lib\\site-packages\\astropy\\io\\fits\\hdu\\hdulist.py:1062\u001b[0m, in \u001b[0;36mHDUList._readfrom\u001b[1;34m(cls, fileobj, data, mode, memmap, cache, lazy_load_hdus, ignore_missing_simple, **kwargs)\u001b[0m\n\u001b[0;32m   1059\u001b[0m \u001b[38;5;28;01mif\u001b[39;00m fileobj \u001b[38;5;129;01mis\u001b[39;00m \u001b[38;5;129;01mnot\u001b[39;00m \u001b[38;5;28;01mNone\u001b[39;00m:\n\u001b[0;32m   1060\u001b[0m     \u001b[38;5;28;01mif\u001b[39;00m \u001b[38;5;129;01mnot\u001b[39;00m \u001b[38;5;28misinstance\u001b[39m(fileobj, _File):\n\u001b[0;32m   1061\u001b[0m         \u001b[38;5;66;03m# instantiate a FITS file object (ffo)\u001b[39;00m\n\u001b[1;32m-> 1062\u001b[0m         fileobj \u001b[38;5;241m=\u001b[39m \u001b[43m_File\u001b[49m\u001b[43m(\u001b[49m\u001b[43mfileobj\u001b[49m\u001b[43m,\u001b[49m\u001b[43m \u001b[49m\u001b[43mmode\u001b[49m\u001b[38;5;241;43m=\u001b[39;49m\u001b[43mmode\u001b[49m\u001b[43m,\u001b[49m\u001b[43m \u001b[49m\u001b[43mmemmap\u001b[49m\u001b[38;5;241;43m=\u001b[39;49m\u001b[43mmemmap\u001b[49m\u001b[43m,\u001b[49m\u001b[43m \u001b[49m\u001b[43mcache\u001b[49m\u001b[38;5;241;43m=\u001b[39;49m\u001b[43mcache\u001b[49m\u001b[43m)\u001b[49m\n\u001b[0;32m   1063\u001b[0m     \u001b[38;5;66;03m# The Astropy mode is determined by the _File initializer if the\u001b[39;00m\n\u001b[0;32m   1064\u001b[0m     \u001b[38;5;66;03m# supplied mode was None\u001b[39;00m\n\u001b[0;32m   1065\u001b[0m     mode \u001b[38;5;241m=\u001b[39m fileobj\u001b[38;5;241m.\u001b[39mmode\n",
      "File \u001b[1;32m~\\anaconda3.1\\envs\\gammapy-1.0.1\\lib\\site-packages\\astropy\\io\\fits\\file.py:170\u001b[0m, in \u001b[0;36m_File.__init__\u001b[1;34m(self, fileobj, mode, memmap, overwrite, cache)\u001b[0m\n\u001b[0;32m    168\u001b[0m     \u001b[38;5;28mself\u001b[39m\u001b[38;5;241m.\u001b[39m_open_fileobj(fileobj, mode, overwrite)\n\u001b[0;32m    169\u001b[0m \u001b[38;5;28;01melif\u001b[39;00m \u001b[38;5;28misinstance\u001b[39m(fileobj, (\u001b[38;5;28mstr\u001b[39m, \u001b[38;5;28mbytes\u001b[39m)):\n\u001b[1;32m--> 170\u001b[0m     \u001b[38;5;28;43mself\u001b[39;49m\u001b[38;5;241;43m.\u001b[39;49m\u001b[43m_open_filename\u001b[49m\u001b[43m(\u001b[49m\u001b[43mfileobj\u001b[49m\u001b[43m,\u001b[49m\u001b[43m \u001b[49m\u001b[43mmode\u001b[49m\u001b[43m,\u001b[49m\u001b[43m \u001b[49m\u001b[43moverwrite\u001b[49m\u001b[43m)\u001b[49m\n\u001b[0;32m    171\u001b[0m \u001b[38;5;28;01melse\u001b[39;00m:\n\u001b[0;32m    172\u001b[0m     \u001b[38;5;28mself\u001b[39m\u001b[38;5;241m.\u001b[39m_open_filelike(fileobj, mode, overwrite)\n",
      "File \u001b[1;32m~\\anaconda3.1\\envs\\gammapy-1.0.1\\lib\\site-packages\\astropy\\io\\fits\\file.py:562\u001b[0m, in \u001b[0;36m_File._open_filename\u001b[1;34m(self, filename, mode, overwrite)\u001b[0m\n\u001b[0;32m    559\u001b[0m ext \u001b[38;5;241m=\u001b[39m os\u001b[38;5;241m.\u001b[39mpath\u001b[38;5;241m.\u001b[39msplitext(\u001b[38;5;28mself\u001b[39m\u001b[38;5;241m.\u001b[39mname)[\u001b[38;5;241m1\u001b[39m]\n\u001b[0;32m    561\u001b[0m \u001b[38;5;28;01mif\u001b[39;00m \u001b[38;5;129;01mnot\u001b[39;00m \u001b[38;5;28mself\u001b[39m\u001b[38;5;241m.\u001b[39m_try_read_compressed(\u001b[38;5;28mself\u001b[39m\u001b[38;5;241m.\u001b[39mname, magic, mode, ext\u001b[38;5;241m=\u001b[39mext):\n\u001b[1;32m--> 562\u001b[0m     \u001b[38;5;28mself\u001b[39m\u001b[38;5;241m.\u001b[39m_file \u001b[38;5;241m=\u001b[39m \u001b[38;5;28;43mopen\u001b[39;49m\u001b[43m(\u001b[49m\u001b[38;5;28;43mself\u001b[39;49m\u001b[38;5;241;43m.\u001b[39;49m\u001b[43mname\u001b[49m\u001b[43m,\u001b[49m\u001b[43m \u001b[49m\u001b[43mIO_FITS_MODES\u001b[49m\u001b[43m[\u001b[49m\u001b[43mmode\u001b[49m\u001b[43m]\u001b[49m\u001b[43m)\u001b[49m\n\u001b[0;32m    563\u001b[0m     \u001b[38;5;28mself\u001b[39m\u001b[38;5;241m.\u001b[39mclose_on_error \u001b[38;5;241m=\u001b[39m \u001b[38;5;28;01mTrue\u001b[39;00m\n\u001b[0;32m    565\u001b[0m \u001b[38;5;66;03m# Make certain we're back at the beginning of the file\u001b[39;00m\n\u001b[0;32m    566\u001b[0m \u001b[38;5;66;03m# BZ2File does not support seek when the file is open for writing, but\u001b[39;00m\n\u001b[0;32m    567\u001b[0m \u001b[38;5;66;03m# when opening a file for write, bz2.BZ2File always truncates anyway.\u001b[39;00m\n",
      "\u001b[1;31mFileNotFoundError\u001b[0m: [Errno 2] No such file or directory: 'C:\\\\Users\\\\User 1\\\\Desktop\\\\Honours Project\\\\Data\\\\ModelPlus_HESS_Combined_Stereo_Std\\\\None'"
     ]
    }
   ],
   "source": [
    "analysis.get_datasets()"
   ]
  },
  {
   "cell_type": "code",
   "execution_count": null,
   "id": "75d1215d",
   "metadata": {},
   "outputs": [],
   "source": []
  },
  {
   "cell_type": "code",
   "execution_count": null,
   "id": "d1120b1d",
   "metadata": {
    "scrolled": false
   },
   "outputs": [],
   "source": []
  },
  {
   "cell_type": "code",
   "execution_count": null,
   "id": "9fbe6951",
   "metadata": {},
   "outputs": [],
   "source": []
  },
  {
   "cell_type": "code",
   "execution_count": null,
   "id": "03df8de4",
   "metadata": {},
   "outputs": [],
   "source": []
  },
  {
   "cell_type": "code",
   "execution_count": null,
   "id": "1085c40f",
   "metadata": {},
   "outputs": [],
   "source": []
  },
  {
   "cell_type": "code",
   "execution_count": null,
   "id": "0c6ed32e",
   "metadata": {},
   "outputs": [],
   "source": []
  }
 ],
 "metadata": {
  "kernelspec": {
   "display_name": "Python 3 (ipykernel)",
   "language": "python",
   "name": "python3"
  },
  "language_info": {
   "codemirror_mode": {
    "name": "ipython",
    "version": 3
   },
   "file_extension": ".py",
   "mimetype": "text/x-python",
   "name": "python",
   "nbconvert_exporter": "python",
   "pygments_lexer": "ipython3",
   "version": "3.9.16"
  }
 },
 "nbformat": 4,
 "nbformat_minor": 5
}
